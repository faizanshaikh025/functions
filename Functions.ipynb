{
  "nbformat": 4,
  "nbformat_minor": 0,
  "metadata": {
    "colab": {
      "provenance": []
    },
    "kernelspec": {
      "name": "python3",
      "display_name": "Python 3"
    },
    "language_info": {
      "name": "python"
    }
  },
  "cells": [
    {
      "cell_type": "code",
      "execution_count": null,
      "metadata": {
        "id": "Z21ey2ai8HH3"
      },
      "outputs": [],
      "source": []
    },
    {
      "cell_type": "markdown",
      "source": [
        "#Functions\n"
      ],
      "metadata": {
        "id": "O4-Pc1Bf8TS0"
      }
    },
    {
      "cell_type": "markdown",
      "source": [
        "#Thoery Question\n",
        "\n",
        "Q1. What is the difference between a function and a method in Python ?\n",
        "   - Functions are independent blocks of code that can be called from anywhere, while methods are tied to objects or classes and need an object or class instance to be invoked.\n",
        "   Example :\n",
        "     1. Function -\n",
        "    def greet(name):  # Independent function\n",
        "    return f\"Hello, {name}!\"\n",
        "\n",
        "    print(greet(\"Alice\"))  # Output: Hello, Alice!\n",
        "\n",
        "    2. Method -\n",
        "        class Person:\n",
        "    def greet(self, name):  # Method (bound to class/object)\n",
        "        return f\"Hello, {name}! I'm {self.name}.\"\n",
        "\n",
        "    p = Person()\n",
        "    p.name = \"Bob\"\n",
        "    print(p.greet(\"Alice\"))  # Output: Hello, Alice! I'm Bob.\n",
        "\n",
        "Q2. Explain the concept of function arguments and parameters in Python.\n",
        "   - 1. Parameters -\n",
        "    Parameters are variables listed inside the parentheses in a function definition.\n",
        "\n",
        "    They act as placeholders for the values that will be passed when the function is called.\n",
        "\n",
        "Q3. What are the different ways to define and call a function in Python?\n",
        "  \n",
        "    -       Type\t                  Definition\t            Call Example\n",
        "\n",
        "    1.  Basic Function\t         def func(x):\t                 func(1)\n",
        "\n",
        "    2.  Default Parameters\t     def func(x=0):\t          func() (uses default)\n",
        "\n",
        "    3.  Keyword Arguments\t       def func(x, y):\t          func(y=2, x=1)\n",
        "\n",
        "    4. *args & **kwargs\t       def func(*args, **kwargs):\t func(1, 2, key=\"val\")\n",
        "\n",
        "    5. Lambda Function\t        lambda x: x + 1             \t(lambda x: x+1)(5)\n",
        "\n",
        "    6. Recursive Function\t      def f(n): return n * f(n-1)\t        f(5)\n",
        "\n",
        "    8. Function as Argument    \tdef caller(func): func()\t       caller(shout)\n",
        "\n",
        "    9. Nested Function\t         def outer(): def inner(): ...     \touter()\n",
        "\n",
        "Q4. What is the purpose of the `return` statement in a Python function?\n",
        "  - The return statement in a Python function serves two key purposes:\n",
        "\n",
        "1. Sends a Value Back to the Caller\n",
        "It exits the function and passes a value (or object) back to where the function was called.\n",
        "\n",
        "Without return, the function implicitly returns None.\n",
        "\n",
        "2. Terminates the Function Immediately\n",
        "Code after return is not executed.\n",
        "\n",
        "Q5.What are iterators in Python and how do they differ from iterables?\n",
        "   - 1. Iterables\n",
        "Definition: Objects that can be looped over (e.g., lists, tuples, strings, dictionaries).\n",
        "\n",
        "Key Feature: They implement __iter__() (or __getitem__() for backward compatibility), which returns an iterator.\n",
        "\n",
        "Behavior: Can be used in for loops or passed to iter() to get an iterator.\n",
        "nums = [1, 2, 3]       # List (iterable)\n",
        "s = \"hello\"            # String (iterable)\n",
        "\n",
        "2. Iterators\n",
        "Definition: Objects that produce values one at a time (via __next__()).\n",
        "\n",
        "Key Features:\n",
        "\n",
        "Implement __iter__() (returns self) and __next__() (returns the next value or raises StopIteration).\n",
        "\n",
        "Stateful: Remember their position during iteration.\n",
        "\n",
        "Exhaustible: Once consumed, they cannot be reused (must create a new iterator).\n",
        "\n",
        "    nums_iter = iter([1, 2, 3])  # Convert iterable to iterator\n",
        "    print(next(nums_iter))       # Output: 1\n",
        "    print(next(nums_iter))       # Output: 2\n",
        "\n",
        "Q6.Explain the concept of generators in Python and how they are defined.\n",
        "   - Generators are a special type of iterator that allow you to iterate over a sequence of values lazily (on-demand) without storing them all in memory at once. They are defined using yield instead of return and automatically implement the iterator protocol (__iter__() and __next__()).\n",
        "   Defining a Generator\n",
        "Method 1: Generator Functions (using yield)\n",
        "A function becomes a generator if it contains at least one yield statement.\n",
        "\n",
        "Example: Simple Generator\n",
        "python\n",
        "Copy\n",
        "def count_up_to(n):\n",
        "    num = 1\n",
        "    while num <= n:\n",
        "        yield num  # Pauses here and returns num\n",
        "        num += 1\n",
        "\n",
        "# Usage:\n",
        "gen = count_up_to(3)\n",
        "print(next(gen))  # Output: 1\n",
        "print(next(gen))  # Output: 2\n",
        "print(next(gen))  # Output: 3\n",
        "# print(next(gen))  # Raises StopIteration\n",
        "\n",
        "Q7.What are the advantages of using generators over regular functions?\n",
        "  - Generators provide several key benefits compared to regular functions, especially when dealing with large datasets, streaming data, or memory-intensive operations\n",
        "    1. Memory Efficiency (Lazy Evaluation)\n",
        "    Regular functions compute all values at once and store them in memory (e.g., returning a list).\n",
        "\n",
        "    Generators produce values one at a time (yield) and pause execution, reducing memory usage.\n",
        "\n",
        "    2. Performance Optimization\n",
        "    Generators avoid unnecessary computations by generating values only when needed.\n",
        "\n",
        "    Useful for infinite sequences (e.g., Fibonacci, sensor data streams).\n",
        "\n",
        "    3. Pipeline Processing (Chaining Generators)\n",
        "    Generators can be chained for efficient data transformations (like Unix pipes).\n",
        "\n",
        "    Each step processes one item at a time, reducing intermediate storage.\n",
        "\n",
        "    4. Faster Execution for Large Data\n",
        "    Since generators don’t pre-compute all values, they start yielding results immediately.\n",
        "\n",
        "    Regular functions must complete entirely before returning.\n",
        "\n",
        "    5. State Retention Between Calls\n",
        "    Generators remember their state between yield calls.\n",
        "\n",
        "    Regular functions reset state on each call.\n",
        "\n",
        "    6. Cleaner Code for Complex Iterations\n",
        "    Generators separate iteration logic from data processing.\n",
        "\n",
        "    Avoids manual iterator class boilerplate (__iter__, __next__).\n",
        "\n",
        "Q8.What is a lambda function in Python and when is it typically used?\n",
        "  - Lambda functions in Python are powerful, concise tools for creating small, anonymous functions on the fly. They are perfect for simplifying short-term tasks, streamlining code with higher-order functions like map , filter , or sorted , and reducing clutter when defining temporary or throwaway logic.\n",
        "\n",
        "Q9. Explain the purpose and usage of the `map()` function in Python.\n",
        "   - Map in Python is a function that works as an iterator to return a result after applying a function to every item of an iterable (tuple, lists, etc.). It is used when you want to apply a single transformation function to all the iterable elements\n",
        "\n",
        "Q10. What is the difference between `map()`, `reduce()`, and `filter()` functions in Python?\n",
        "  - Aspect\t       map()\t          filter()\t              reduce()\n",
        "    Input\t         Iterable\t         Iterable\t                Iterable\n",
        "    Output\t       Iterator\t         Iterator\t                Single value\n",
        "    Function\t     Transforms items\t Filters items\t         Aggregates items\n",
        "    Lazy?\t         Yes\t                Yes\t                   No (eager)\n",
        "    Alternatives\tList comprehensions\tList comprehensions \tsum(), max(), etc.\n",
        "\n",
        "Q11.Functions\n",
        "Thoery Question\n",
        "Q1. What is the difference between a function and a method in Python ?\n",
        "\n",
        "Functions are independent blocks of code that can be called from anywhere, while methods are tied to objects or classes and need an object or class instance to be invoked. Example :\n",
        "\n",
        "Function - def greet(name): # Independent function return f\"Hello, {name}!\"\n",
        "print(greet(\"Alice\")) # Output: Hello, Alice!\n",
        "\n",
        "Method - class Person: def greet(self, name): # Method (bound to class/object) return f\"Hello, {name}! I'm {self.name}.\"\n",
        "p = Person() p.name = \"Bob\" print(p.greet(\"Alice\")) # Output: Hello, Alice! I'm Bob.\n",
        "\n",
        "Q2. Explain the concept of function arguments and parameters in Python.\n",
        "\n",
        "Parameters - Parameters are variables listed inside the parentheses in a function definition.\n",
        "They act as placeholders for the values that will be passed when the function is called.\n",
        "\n",
        "Q3. What are the different ways to define and call a function in Python?\n",
        "\n",
        "-       Type                      Definition                Call Example\n",
        "\n",
        "1.  Basic Function             def func(x):                     func(1)\n",
        "\n",
        "2.  Default Parameters         def func(x=0):              func() (uses default)\n",
        "\n",
        "3.  Keyword Arguments           def func(x, y):              func(y=2, x=1)\n",
        "\n",
        "4. *args & **kwargs           def func(*args, **kwargs):     func(1, 2, key=\"val\")\n",
        "\n",
        "5. Lambda Function            lambda x: x + 1                 (lambda x: x+1)(5)\n",
        "\n",
        "6. Recursive Function          def f(n): return n * f(n-1)            f(5)\n",
        "\n",
        "8. Function as Argument        def caller(func): func()           caller(shout)\n",
        "\n",
        "9. Nested Function             def outer(): def inner(): ...         outer()\n",
        "Q4. What is the purpose of the return statement in a Python function?\n",
        "\n",
        "The return statement in a Python function serves two key purposes:\n",
        "Sends a Value Back to the Caller It exits the function and passes a value (or object) back to where the function was called.\n",
        "Without return, the function implicitly returns None.\n",
        "\n",
        "Terminates the Function Immediately Code after return is not executed.\n",
        "Q5.What are iterators in Python and how do they differ from iterables?\n",
        "\n",
        "Iterables Definition: Objects that can be looped over (e.g., lists, tuples, strings, dictionaries).\n",
        "Key Feature: They implement iter() (or getitem() for backward compatibility), which returns an iterator.\n",
        "\n",
        "Behavior: Can be used in for loops or passed to iter() to get an iterator. nums = [1, 2, 3] # List (iterable) s = \"hello\" # String (iterable)\n",
        "\n",
        "Iterators Definition: Objects that produce values one at a time (via next()).\n",
        "Key Features:\n",
        "\n",
        "Implement iter() (returns self) and next() (returns the next value or raises StopIteration).\n",
        "\n",
        "Stateful: Remember their position during iteration.\n",
        "\n",
        "Exhaustible: Once consumed, they cannot be reused (must create a new iterator).\n",
        "\n",
        "nums_iter = iter([1, 2, 3])  # Convert iterable to iterator\n",
        "print(next(nums_iter))       # Output: 1\n",
        "print(next(nums_iter))       # Output: 2\n",
        "Q6.Explain the concept of generators in Python and how they are defined.\n",
        "\n",
        "Generators are a special type of iterator that allow you to iterate over a sequence of values lazily (on-demand) without storing them all in memory at once. They are defined using yield instead of return and automatically implement the iterator protocol (iter() and next()). Defining a Generator Method 1: Generator Functions (using yield) A function becomes a generator if it contains at least one yield statement.\n",
        "Example: Simple Generator python Copy def count_up_to(n): num = 1 while num <= n: yield num # Pauses here and returns num num += 1\n",
        "\n",
        "Usage:\n",
        "gen = count_up_to(3) print(next(gen)) # Output: 1 print(next(gen)) # Output: 2 print(next(gen)) # Output: 3\n",
        "\n",
        "print(next(gen)) # Raises StopIteration\n",
        "Q7.What are the advantages of using generators over regular functions?\n",
        "\n",
        "Generators provide several key benefits compared to regular functions, especially when dealing with large datasets, streaming data, or memory-intensive operations\n",
        "\n",
        "Memory Efficiency (Lazy Evaluation) Regular functions compute all values at once and store them in memory (e.g., returning a list).\n",
        "Generators produce values one at a time (yield) and pause execution, reducing memory usage.\n",
        "\n",
        "Performance Optimization Generators avoid unnecessary computations by generating values only when needed.\n",
        "Useful for infinite sequences (e.g., Fibonacci, sensor data streams).\n",
        "\n",
        "Pipeline Processing (Chaining Generators) Generators can be chained for efficient data transformations (like Unix pipes).\n",
        "Each step processes one item at a time, reducing intermediate storage.\n",
        "\n",
        "Faster Execution for Large Data Since generators don’t pre-compute all values, they start yielding results immediately.\n",
        "Regular functions must complete entirely before returning.\n",
        "\n",
        "State Retention Between Calls Generators remember their state between yield calls.\n",
        "Regular functions reset state on each call.\n",
        "\n",
        "Cleaner Code for Complex Iterations Generators separate iteration logic from data processing.\n",
        "Avoids manual iterator class boilerplate (iter, next).\n",
        "\n",
        "Q8.What is a lambda function in Python and when is it typically used?\n",
        "\n",
        "Lambda functions in Python are powerful, concise tools for creating small, anonymous functions on the fly. They are perfect for simplifying short-term tasks, streamlining code with higher-order functions like map , filter , or sorted , and reducing clutter when defining temporary or throwaway logic.\n",
        "Q9. Explain the purpose and usage of the map() function in Python.\n",
        "\n",
        "Map in Python is a function that works as an iterator to return a result after applying a function to every item of an iterable (tuple, lists, etc.). It is used when you want to apply a single transformation function to all the iterable elements\n",
        "Q10. What is the difference between map(), reduce(), and filter() functions in Python?\n",
        "\n",
        "Aspect map() filter() reduce() Input Iterable Iterable Iterable Output Iterator Iterator Single value Function Transforms items Filters items Aggregates items Lazy? Yes Yes No (eager) Alternatives List comprehensions List comprehensions sum(), max(), etc.\n"
      ],
      "metadata": {
        "id": "_uq3NJ-C8big"
      }
    },
    {
      "cell_type": "code",
      "source": [
        "#1.Write a Python function that takes a list of numbers as input and returns the sum of all even numbers in the list.\n",
        "def sum_even_numbers(numbers):\n",
        "    return sum(filter(lambda x: x % 2 == 0, numbers))\n",
        "\n",
        "\n",
        "# Example usage:\n",
        "nums = [47, 11, 42, 13]\n",
        "print(sum_even_numbers(nums))  # Output: 42 (only 42 is even)"
      ],
      "metadata": {
        "colab": {
          "base_uri": "https://localhost:8080/"
        },
        "id": "H2VVaVLtR12M",
        "outputId": "d3990526-f889-4832-e15f-f5532ec25a1b"
      },
      "execution_count": 3,
      "outputs": [
        {
          "output_type": "stream",
          "name": "stdout",
          "text": [
            "42\n"
          ]
        }
      ]
    },
    {
      "cell_type": "code",
      "source": [
        "#2. Create a Python function that accepts a string and returns the reverse of that string.\n",
        "def reverse_string(input_string):\n",
        "    return input_string[::-1]\n",
        "\n",
        "\n",
        "# Example usage:\n",
        "text = \"Hello, World!\"\n",
        "print(reverse_string(text))  # Output: \"!dlroW ,olleH\"\n"
      ],
      "metadata": {
        "colab": {
          "base_uri": "https://localhost:8080/"
        },
        "id": "xicmNPjgSRo2",
        "outputId": "d1eca1a4-3b4c-4650-f1cc-5cd458e746fe"
      },
      "execution_count": 4,
      "outputs": [
        {
          "output_type": "stream",
          "name": "stdout",
          "text": [
            "!dlroW ,olleH\n"
          ]
        }
      ]
    },
    {
      "cell_type": "code",
      "source": [
        "#3. Implement a Python function that takes a list of integers and returns a new list containing the squares of each number.\n",
        "def square_numbers(numbers):\n",
        "    return [x ** 2 for x in numbers]\n",
        "\n",
        "\n",
        "# Example usage:\n",
        "nums = [1, 2, 3, 4, 5]\n",
        "print(square_numbers(nums))  # Output: [1, 4, 9, 16, 25]"
      ],
      "metadata": {
        "colab": {
          "base_uri": "https://localhost:8080/"
        },
        "id": "YI0EVeKPShb6",
        "outputId": "8f8367e6-1ba6-4d09-bc30-c83a6586d62c"
      },
      "execution_count": 5,
      "outputs": [
        {
          "output_type": "stream",
          "name": "stdout",
          "text": [
            "[1, 4, 9, 16, 25]\n"
          ]
        }
      ]
    },
    {
      "cell_type": "code",
      "source": [
        "#4.Write a Python function that checks if a given number is prime or not from 1 to 200.\n",
        "def is_prime(n):\n",
        "    if n <= 1:\n",
        "        return False\n",
        "    if n == 2:  # 2 is the only even prime\n",
        "        return True\n",
        "    if n % 2 == 0:  # Eliminate even numbers\n",
        "        return False\n",
        "    # Check divisibility up to sqrt(n)\n",
        "    for i in range(3, int(n**0.5) + 1, 2):\n",
        "        if n % i == 0:\n",
        "            return False\n",
        "    return True\n",
        "\n",
        "# Test for numbers 1 to 200\n",
        "for num in range(1, 201):\n",
        "    if is_prime(num):\n",
        "        print(f\"{num} is prime\")\n",
        "    # Uncomment to see non-primes:\n",
        "    # else:\n",
        "    #     print(f\"{num} is not prime\")\n"
      ],
      "metadata": {
        "colab": {
          "base_uri": "https://localhost:8080/"
        },
        "id": "iFQEqsZvS0So",
        "outputId": "dbff8d83-a3dc-4e87-f4fe-44869d2feeff"
      },
      "execution_count": 9,
      "outputs": [
        {
          "output_type": "stream",
          "name": "stdout",
          "text": [
            "2 is prime\n",
            "3 is prime\n",
            "5 is prime\n",
            "7 is prime\n",
            "11 is prime\n",
            "13 is prime\n",
            "17 is prime\n",
            "19 is prime\n",
            "23 is prime\n",
            "29 is prime\n",
            "31 is prime\n",
            "37 is prime\n",
            "41 is prime\n",
            "43 is prime\n",
            "47 is prime\n",
            "53 is prime\n",
            "59 is prime\n",
            "61 is prime\n",
            "67 is prime\n",
            "71 is prime\n",
            "73 is prime\n",
            "79 is prime\n",
            "83 is prime\n",
            "89 is prime\n",
            "97 is prime\n",
            "101 is prime\n",
            "103 is prime\n",
            "107 is prime\n",
            "109 is prime\n",
            "113 is prime\n",
            "127 is prime\n",
            "131 is prime\n",
            "137 is prime\n",
            "139 is prime\n",
            "149 is prime\n",
            "151 is prime\n",
            "157 is prime\n",
            "163 is prime\n",
            "167 is prime\n",
            "173 is prime\n",
            "179 is prime\n",
            "181 is prime\n",
            "191 is prime\n",
            "193 is prime\n",
            "197 is prime\n",
            "199 is prime\n"
          ]
        }
      ]
    },
    {
      "cell_type": "code",
      "source": [
        "#5.Create an iterator class in Python that generates the Fibonacci sequence up to a specified number of terms.\n",
        "class FibonacciIterator:\n",
        "    def __init__(self, max_terms):\n",
        "        self.max_terms = max_terms\n",
        "        self.count = 0\n",
        "        self.a, self.b = 0, 1  # Initialize first two Fibonacci numbers\n",
        "\n",
        "    def __iter__(self):\n",
        "        return self  # Returns the iterator object itself\n",
        "\n",
        "    def __next__(self):\n",
        "        if self.count >= self.max_terms:\n",
        "            raise StopIteration  # Terminate iteration\n",
        "        value = self.a\n",
        "        self.a, self.b = self.b, self.a + self.b  # Update Fibonacci sequence\n",
        "        self.count += 1\n",
        "        return value\n",
        "\n",
        "# Example Usage:\n",
        "fib_iter = FibonacciIterator(10)  # Generate first 10 Fibonacci numbers\n",
        "for num in fib_iter:\n",
        "    print(num, end=\" \")  # Output: 0 1 1 2 3 5 8 13 21 34"
      ],
      "metadata": {
        "colab": {
          "base_uri": "https://localhost:8080/"
        },
        "id": "CX9OdbPvTOr2",
        "outputId": "ff14b957-0ad3-4485-9670-d7c52c961b32"
      },
      "execution_count": 10,
      "outputs": [
        {
          "output_type": "stream",
          "name": "stdout",
          "text": [
            "0 1 1 2 3 5 8 13 21 34 "
          ]
        }
      ]
    },
    {
      "cell_type": "code",
      "source": [
        "#6.Write a generator function in Python that yields the powers of 2 up to a given exponent.\n",
        "def powers_of_two(max_exponent):\n",
        "    \"\"\"Generates 2^0, 2^1, ..., 2^max_exponent\"\"\"\n",
        "    for exponent in range(max_exponent + 1):\n",
        "        yield 2 ** exponent\n",
        "\n",
        "# Example Usage:\n",
        "for power in powers_of_two(5):\n",
        "    print(power, end=\" \")  # Output: 1 2 4 8 16 32"
      ],
      "metadata": {
        "colab": {
          "base_uri": "https://localhost:8080/"
        },
        "id": "m9IrFa1mTqHP",
        "outputId": "4d5c9442-1012-4699-e5e5-f26b1e2bbc30"
      },
      "execution_count": 11,
      "outputs": [
        {
          "output_type": "stream",
          "name": "stdout",
          "text": [
            "1 2 4 8 16 32 "
          ]
        }
      ]
    },
    {
      "cell_type": "code",
      "source": [
        "#7.Implement a generator function that reads a file line by line and yields each line as a string\n",
        "def read_file_line_by_line(file_path):\n",
        "    \"\"\"Yield each line of a file as a string.\"\"\"\n",
        "    try:\n",
        "        with open(file_path, 'r', encoding='utf-8') as file:\n",
        "            for line in file:\n",
        "                yield line.strip()  # Remove trailing newline characters\n",
        "    except FileNotFoundError:\n",
        "        print(f\"Error: File '{file_path}' not found.\")\n",
        "\n",
        "# Example Usage:\n",
        "file_path = 'example.txt'  # Or provide the actual path to your file\n",
        "try:\n",
        "    for line in read_file_line_by_line(file_path):\n",
        "        print(line)  # Process each line one at a time\n",
        "except FileNotFoundError:\n",
        "    print(f\"Error: File '{file_path}' not found. Please make sure the file exists and the path is correct.\")\n"
      ],
      "metadata": {
        "colab": {
          "base_uri": "https://localhost:8080/"
        },
        "id": "d_iaAVwpUC0B",
        "outputId": "f365250f-078c-4d01-93e5-11f827cf994a"
      },
      "execution_count": 15,
      "outputs": [
        {
          "output_type": "stream",
          "name": "stdout",
          "text": [
            "Error: File 'example.txt' not found.\n"
          ]
        }
      ]
    },
    {
      "cell_type": "code",
      "source": [
        "#8.Use a lambda function in Python to sort a list of tuples based on the second element of each tuple.\n",
        "# List of tuples (e.g., name and age pairs)\n",
        "data = [(\"Alice\", 32), (\"Bob\", 25), (\"Charlie\", 19), (\"Diana\", 47)]\n",
        "\n",
        "# Sort by the second element (index 1) of each tuple\n",
        "sorted_data = sorted(data, key=lambda x: x[1])\n",
        "\n",
        "print(sorted_data)"
      ],
      "metadata": {
        "colab": {
          "base_uri": "https://localhost:8080/"
        },
        "id": "0g4ZShbUVIvD",
        "outputId": "ee519248-a298-4e0e-8527-48faddfafa62"
      },
      "execution_count": 16,
      "outputs": [
        {
          "output_type": "stream",
          "name": "stdout",
          "text": [
            "[('Charlie', 19), ('Bob', 25), ('Alice', 32), ('Diana', 47)]\n"
          ]
        }
      ]
    },
    {
      "cell_type": "code",
      "source": [
        "#9.Write a Python program that uses `map()` to convert a list of temperatures from Celsius to Fahrenheit.\n",
        "# List of temperatures in Celsius\n",
        "celsius_temps = [0, 10, 20, 30, 40]\n",
        "\n",
        "# Conversion formula: F = (C * 9/5) + 32\n",
        "fahrenheit_temps = list(map(lambda c: (c * 9/5) + 32, celsius_temps))\n",
        "\n",
        "print(fahrenheit_temps)"
      ],
      "metadata": {
        "colab": {
          "base_uri": "https://localhost:8080/"
        },
        "id": "-RUxm8bhVYAt",
        "outputId": "b24e9b40-9099-45d4-d000-91b2e222e19f"
      },
      "execution_count": 17,
      "outputs": [
        {
          "output_type": "stream",
          "name": "stdout",
          "text": [
            "[32.0, 50.0, 68.0, 86.0, 104.0]\n"
          ]
        }
      ]
    },
    {
      "cell_type": "code",
      "source": [
        "#10. Create a Python program that uses `filter()` to remove all the vowels from a given string.\n",
        "def remove_vowels(input_string):\n",
        "    vowels = {'a', 'e', 'i', 'o', 'u', 'A', 'E', 'I', 'O', 'U'}\n",
        "    # Filter out characters that are not vowels\n",
        "    filtered_chars = filter(lambda char: char not in vowels, input_string)\n",
        "    # Join the remaining characters into a string\n",
        "    return ''.join(filtered_chars)\n",
        "\n",
        "# Example usage\n",
        "input_str = \"Hello, World!\"\n",
        "result = remove_vowels(input_str)\n",
        "print(result)  # Output: \"Hll, Wrld!\""
      ],
      "metadata": {
        "colab": {
          "base_uri": "https://localhost:8080/"
        },
        "id": "9zRRp6YaVueD",
        "outputId": "061d7cb6-8ef1-4a4d-cd17-03d103f343ff"
      },
      "execution_count": 18,
      "outputs": [
        {
          "output_type": "stream",
          "name": "stdout",
          "text": [
            "Hll, Wrld!\n"
          ]
        }
      ]
    },
    {
      "cell_type": "code",
      "source": [
        "#11.Imagine an accounting routine used in a book shop. It works on a list with sublists, which look like this:  Order Number\tBook Title and Author\tQuantity\tPrice per Item\n",
        "#34587Learning Python, Mark Lutz\t4\t40.95\n",
        "#98762\tProgramming Python, Mark Lutz\t5\t56.80\n",
        "#77226\tHead First Python, Paul Barry\t3\t32.95\n",
        "#88112\tEinführung in Python3, Bernd Klein\t3\t24.99\n",
        "\n",
        "\n",
        "#Write a Python program, which returns a list with 2-tuples. Each tuple consists of a the order number and the product of the price per items and the quantity. The product should be increased by 10,- € if the value of the order is less than 100,00 €.\n",
        "#Write a Python program using lambda and map.\n",
        "#orders = [\n",
        "   # [34587, \"Learning Python, Mark Lutz\", 4, 40.95],\n",
        "   # [98762, \"Programming Python, Mark Lutz\", 5, 56.80],\n",
        "#11.Imagine an accounting routine used in a book shop. It works on a list with sublists, which look like this:  Order Number\tBook Title and Author\tQuantity\tPrice per Item\n",
        "#34587Learning Python, Mark Lutz\t4\t40.95\n",
        "#98762\tProgramming Python, Mark Lutz\t5\t56.80\n",
        "#77226\tHead First Python, Paul Barry\t3\t32.95\n",
        "#88112\tEinführung in Python3, Bernd Klein\t3\t24.99\n",
        "\n",
        "\n",
        "#Write a Python program, which returns a list with 2-tuples. Each tuple consists of a the order number and the product of the price per items and the quantity. The product should be increased by 10,- € if the value of the order is less than 100,00 €.\n",
        "#Write a Python program using lambda and map.\n",
        "orders = [\n",
        "    [34587, \"Learning Python, Mark Lutz\", 4, 40.95],\n",
        "    [98762, \"Programming Python, Mark Lutz\", 5, 56.80],\n",
        "    [77226, \"Head First Python, Paul Barry\", 3, 32.95],\n",
        "    [88112, \"Einführung in Python3, Bernd Klein\", 3, 24.99]\n",
        "]\n",
        "\n",
        "# Process each order: (order_number, quantity * price) with +10 if < 100\n",
        "processed_orders = list(\n",
        "    map(lambda order: (\n",
        "        order[0],  # Order number\n",
        "        round(order[2] * order[3] + (10 if order[2] * order[3] < 100 else 0), 2)  # Apply condition and round\n",
        "    ), orders)\n",
        ")\n",
        "\n",
        "print(processed_orders)\n",
        "processed_orders = list(\n",
        "    map(lambda order: (\n",
        "        order[0],  # Order number\n",
        "        round(order[2] * order[3] + (10 if order[2] * order[3] < 100 else 0), 2)  # Apply condition and round\n",
        "    ), orders)\n",
        ")\n",
        "\n",
        "print(processed_orders)\n"
      ],
      "metadata": {
        "colab": {
          "base_uri": "https://localhost:8080/"
        },
        "id": "Ocg7Ij75WCoQ",
        "outputId": "7a79a5c8-5d6e-4af8-9d5a-31a9f7e3c132"
      },
      "execution_count": 21,
      "outputs": [
        {
          "output_type": "stream",
          "name": "stdout",
          "text": [
            "[(34587, 163.8), (98762, 284.0), (77226, 108.85), (88112, 84.97)]\n",
            "[(34587, 163.8), (98762, 284.0), (77226, 108.85), (88112, 84.97)]\n"
          ]
        }
      ]
    }
  ]
}